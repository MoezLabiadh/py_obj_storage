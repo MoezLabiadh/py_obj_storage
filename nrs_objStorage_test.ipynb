{
 "cells": [
  {
   "cell_type": "code",
   "execution_count": 29,
   "id": "a3923b67",
   "metadata": {},
   "outputs": [],
   "source": [
    "import os\n",
    "import boto3\n",
    "import pandas as pd"
   ]
  },
  {
   "cell_type": "code",
   "execution_count": 30,
   "id": "8a8997b1",
   "metadata": {},
   "outputs": [],
   "source": [
    "#create an s3 client\n",
    "AWS_SERVER_PUBLIC_KEY = os.environ.get('AWS_ACCESS_KEY_ID') \n",
    "AWS_SERVER_SECRET_KEY = os.environ.get('AWS_SECRET_ACCESS_KEY') \n",
    "\n",
    "s3_client = boto3.client('s3', \n",
    "                         endpoint_url='https://nrs.objectstore.gov.bc.ca',\n",
    "                         aws_access_key_id=AWS_SERVER_PUBLIC_KEY,\n",
    "                         aws_secret_access_key=AWS_SERVER_SECRET_KEY)"
   ]
  },
  {
   "cell_type": "code",
   "execution_count": 31,
   "id": "2c8c7c64",
   "metadata": {},
   "outputs": [
    {
     "name": "stdout",
     "output_type": "stream",
     "text": [
      "pmecwy\n"
     ]
    }
   ],
   "source": [
    "#list buckets\n",
    "response = s3_client.list_buckets()\n",
    "for bucket in response['Buckets']:\n",
    "    print(bucket['Name'])"
   ]
  },
  {
   "cell_type": "code",
   "execution_count": 32,
   "id": "d89fbff9",
   "metadata": {
    "scrolled": true
   },
   "outputs": [
    {
     "name": "stdout",
     "output_type": "stream",
     "text": [
      "CEA_Images/\n",
      "CEA_Images/Visuals/\n",
      "CEA_Images/Visuals/2018-08-27 12.48.45 Sugar Lake.jpg\n",
      "CEA_Images/Visuals/Bowron_original.jpg\n",
      "CEA_Images/Visuals/IMG_0171.JPG\n",
      "CEA_Images/Visuals/IMG_0176.JPG\n",
      "CEA_Images/Visuals/IMG_0178.JPG\n",
      "CEA_Images/Visuals/IMG_1545.JPG\n",
      "CEA_Images/Visuals/IMG_1576.JPG\n",
      "CEA_Images/Visuals/IMG_1576_crop.jpg\n"
     ]
    }
   ],
   "source": [
    "# list objects in the 'pmecwy' bucket\n",
    "bucket_name = 'pmecwy'\n",
    "response = s3_client.list_objects_v2(Bucket=bucket_name)\n",
    "\n",
    "##show only 10 first objects\n",
    "for obj in response.get('Contents', [])[:10]:\n",
    "    print(obj['Key'])"
   ]
  },
  {
   "cell_type": "code",
   "execution_count": 33,
   "id": "a40b986c",
   "metadata": {},
   "outputs": [
    {
     "name": "stdout",
     "output_type": "stream",
     "text": [
      "File thompsonWSHD_oldForest_stats.xlsx' uploaded successfully to subfolder 'test_ml'.\n"
     ]
    }
   ],
   "source": [
    "#upload an xlsx to the bucket\n",
    "subfolder_name = 'test_ml'\n",
    "file_path= r'W:\\lwbc\\visr\\Workarea\\moez_labiadh\\LEARNING\\object_storage\\thompsonWSHD_oldForest_stats.xlsx'\n",
    "file_name= os.path.basename(file_path)\n",
    "\n",
    "s3_client.upload_file(file_path, bucket_name, f'{subfolder_name}/{file_name}')\n",
    "\n",
    "print(f\"File {file_name}' uploaded successfully to subfolder '{subfolder_name}'.\")"
   ]
  },
  {
   "cell_type": "code",
   "execution_count": 36,
   "id": "616fb5b9",
   "metadata": {},
   "outputs": [
    {
     "data": {
      "text/html": [
       "<div>\n",
       "<style scoped>\n",
       "    .dataframe tbody tr th:only-of-type {\n",
       "        vertical-align: middle;\n",
       "    }\n",
       "\n",
       "    .dataframe tbody tr th {\n",
       "        vertical-align: top;\n",
       "    }\n",
       "\n",
       "    .dataframe thead th {\n",
       "        text-align: right;\n",
       "    }\n",
       "</style>\n",
       "<table border=\"1\" class=\"dataframe\">\n",
       "  <thead>\n",
       "    <tr style=\"text-align: right;\">\n",
       "      <th></th>\n",
       "      <th>WATERSHED_GROUP_NAME</th>\n",
       "      <th>CATEGORY</th>\n",
       "      <th>BEC_ZONE</th>\n",
       "      <th>AREA_HA</th>\n",
       "    </tr>\n",
       "  </thead>\n",
       "  <tbody>\n",
       "    <tr>\n",
       "      <th>0</th>\n",
       "      <td>Adams River</td>\n",
       "      <td>ANCIENT &amp; REMNANT</td>\n",
       "      <td>ICH</td>\n",
       "      <td>79.62</td>\n",
       "    </tr>\n",
       "    <tr>\n",
       "      <th>1</th>\n",
       "      <td>Adams River</td>\n",
       "      <td>ANCIENT FOREST</td>\n",
       "      <td>ESSF</td>\n",
       "      <td>97.70</td>\n",
       "    </tr>\n",
       "    <tr>\n",
       "      <th>2</th>\n",
       "      <td>Adams River</td>\n",
       "      <td>ANCIENT FOREST</td>\n",
       "      <td>ICH</td>\n",
       "      <td>198.43</td>\n",
       "    </tr>\n",
       "    <tr>\n",
       "      <th>3</th>\n",
       "      <td>Adams River</td>\n",
       "      <td>OGMA</td>\n",
       "      <td>ESSF</td>\n",
       "      <td>15181.92</td>\n",
       "    </tr>\n",
       "    <tr>\n",
       "      <th>4</th>\n",
       "      <td>Adams River</td>\n",
       "      <td>OGMA</td>\n",
       "      <td>ICH</td>\n",
       "      <td>16144.44</td>\n",
       "    </tr>\n",
       "    <tr>\n",
       "      <th>5</th>\n",
       "      <td>Adams River</td>\n",
       "      <td>OGMA</td>\n",
       "      <td>IDF</td>\n",
       "      <td>2990.64</td>\n",
       "    </tr>\n",
       "    <tr>\n",
       "      <th>6</th>\n",
       "      <td>Adams River</td>\n",
       "      <td>OGMA</td>\n",
       "      <td>MS</td>\n",
       "      <td>458.84</td>\n",
       "    </tr>\n",
       "    <tr>\n",
       "      <th>7</th>\n",
       "      <td>Adams River</td>\n",
       "      <td>OLD FOREST</td>\n",
       "      <td>ESSF</td>\n",
       "      <td>2099.61</td>\n",
       "    </tr>\n",
       "    <tr>\n",
       "      <th>8</th>\n",
       "      <td>Adams River</td>\n",
       "      <td>OLD FOREST</td>\n",
       "      <td>ICH</td>\n",
       "      <td>5824.94</td>\n",
       "    </tr>\n",
       "    <tr>\n",
       "      <th>9</th>\n",
       "      <td>Adams River</td>\n",
       "      <td>OLD FOREST</td>\n",
       "      <td>IDF</td>\n",
       "      <td>155.09</td>\n",
       "    </tr>\n",
       "  </tbody>\n",
       "</table>\n",
       "</div>"
      ],
      "text/plain": [
       "  WATERSHED_GROUP_NAME           CATEGORY BEC_ZONE   AREA_HA\n",
       "0          Adams River  ANCIENT & REMNANT      ICH     79.62\n",
       "1          Adams River     ANCIENT FOREST     ESSF     97.70\n",
       "2          Adams River     ANCIENT FOREST      ICH    198.43\n",
       "3          Adams River               OGMA     ESSF  15181.92\n",
       "4          Adams River               OGMA      ICH  16144.44\n",
       "5          Adams River               OGMA      IDF   2990.64\n",
       "6          Adams River               OGMA       MS    458.84\n",
       "7          Adams River         OLD FOREST     ESSF   2099.61\n",
       "8          Adams River         OLD FOREST      ICH   5824.94\n",
       "9          Adams River         OLD FOREST      IDF    155.09"
      ]
     },
     "execution_count": 36,
     "metadata": {},
     "output_type": "execute_result"
    }
   ],
   "source": [
    "# read the xlsx into df\n",
    "s3_object_key = f'{subfolder_name}/{file_name}'\n",
    "obj = s3_client.get_object(Bucket=bucket_name, Key=s3_object_key)\n",
    "df = pd.read_excel(obj['Body'].read())\n",
    "df.head()"
   ]
  },
  {
   "cell_type": "code",
   "execution_count": 37,
   "id": "2a197609",
   "metadata": {},
   "outputs": [
    {
     "data": {
      "text/html": [
       "<div>\n",
       "<style scoped>\n",
       "    .dataframe tbody tr th:only-of-type {\n",
       "        vertical-align: middle;\n",
       "    }\n",
       "\n",
       "    .dataframe tbody tr th {\n",
       "        vertical-align: top;\n",
       "    }\n",
       "\n",
       "    .dataframe thead th {\n",
       "        text-align: right;\n",
       "    }\n",
       "</style>\n",
       "<table border=\"1\" class=\"dataframe\">\n",
       "  <thead>\n",
       "    <tr style=\"text-align: right;\">\n",
       "      <th></th>\n",
       "      <th>WATERSHED_GROUP_NAME</th>\n",
       "      <th>CATEGORY</th>\n",
       "      <th>BEC_ZONE</th>\n",
       "      <th>AREA_HA</th>\n",
       "    </tr>\n",
       "  </thead>\n",
       "  <tbody>\n",
       "    <tr>\n",
       "      <th>0</th>\n",
       "      <td>XXX</td>\n",
       "      <td>YYY</td>\n",
       "      <td>ZZZ</td>\n",
       "      <td>20.15</td>\n",
       "    </tr>\n",
       "    <tr>\n",
       "      <th>1</th>\n",
       "      <td>Adams River</td>\n",
       "      <td>ANCIENT FOREST</td>\n",
       "      <td>ESSF</td>\n",
       "      <td>97.70</td>\n",
       "    </tr>\n",
       "    <tr>\n",
       "      <th>2</th>\n",
       "      <td>Adams River</td>\n",
       "      <td>ANCIENT FOREST</td>\n",
       "      <td>ICH</td>\n",
       "      <td>198.43</td>\n",
       "    </tr>\n",
       "    <tr>\n",
       "      <th>3</th>\n",
       "      <td>Adams River</td>\n",
       "      <td>OGMA</td>\n",
       "      <td>ESSF</td>\n",
       "      <td>15181.92</td>\n",
       "    </tr>\n",
       "    <tr>\n",
       "      <th>4</th>\n",
       "      <td>Adams River</td>\n",
       "      <td>OGMA</td>\n",
       "      <td>ICH</td>\n",
       "      <td>16144.44</td>\n",
       "    </tr>\n",
       "  </tbody>\n",
       "</table>\n",
       "</div>"
      ],
      "text/plain": [
       "  WATERSHED_GROUP_NAME        CATEGORY BEC_ZONE   AREA_HA\n",
       "0                  XXX             YYY      ZZZ     20.15\n",
       "1          Adams River  ANCIENT FOREST     ESSF     97.70\n",
       "2          Adams River  ANCIENT FOREST      ICH    198.43\n",
       "3          Adams River            OGMA     ESSF  15181.92\n",
       "4          Adams River            OGMA      ICH  16144.44"
      ]
     },
     "execution_count": 37,
     "metadata": {},
     "output_type": "execute_result"
    }
   ],
   "source": [
    "#write data to the xlsx folder\n",
    "new_row = {'WATERSHED_GROUP_NAME': 'XXX',\n",
    "           'CATEGORY': 'YYY',\n",
    "           'BEC_ZONE': 'ZZZ',\n",
    "           'AREA_HA': 20.15}\n",
    "df.loc[0] = new_row\n",
    "df.reset_index(drop=True, inplace=True)\n",
    "df.head()"
   ]
  },
  {
   "cell_type": "code",
   "execution_count": null,
   "id": "384a4fb0",
   "metadata": {},
   "outputs": [],
   "source": []
  }
 ],
 "metadata": {
  "kernelspec": {
   "display_name": "Python 3 (ipykernel)",
   "language": "python",
   "name": "python3"
  },
  "language_info": {
   "codemirror_mode": {
    "name": "ipython",
    "version": 3
   },
   "file_extension": ".py",
   "mimetype": "text/x-python",
   "name": "python",
   "nbconvert_exporter": "python",
   "pygments_lexer": "ipython3",
   "version": "3.10.8"
  }
 },
 "nbformat": 4,
 "nbformat_minor": 5
}
